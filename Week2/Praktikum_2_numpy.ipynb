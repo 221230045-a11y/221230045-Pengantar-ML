{
  "nbformat": 4,
  "nbformat_minor": 0,
  "metadata": {
    "colab": {
      "provenance": [],
      "authorship_tag": "ABX9TyPdsFQeh5AsIwejEP8JnRTR",
      "include_colab_link": true
    },
    "kernelspec": {
      "name": "python3",
      "display_name": "Python 3"
    },
    "language_info": {
      "name": "python"
    }
  },
  "cells": [
    {
      "cell_type": "markdown",
      "metadata": {
        "id": "view-in-github",
        "colab_type": "text"
      },
      "source": [
        "<a href=\"https://colab.research.google.com/github/221230045-a11y/221230045-Pengantar-ML/blob/main/Praktikum_2_numpy.ipynb\" target=\"_parent\"><img src=\"https://colab.research.google.com/assets/colab-badge.svg\" alt=\"Open In Colab\"/></a>"
      ]
    },
    {
      "cell_type": "code",
      "execution_count": 1,
      "metadata": {
        "colab": {
          "base_uri": "https://localhost:8080/"
        },
        "id": "97bCSn4EhT51",
        "outputId": "564482e7-a023-443c-c236-44320a7d7e92"
      },
      "outputs": [
        {
          "output_type": "stream",
          "name": "stdout",
          "text": [
            "Original data shape: (100, 5)\n"
          ]
        }
      ],
      "source": [
        "import numpy as np\n",
        "\n",
        "# Dataset simulasi: 100 samples, 5 features\n",
        "np.random.seed(42)\n",
        "X = np.random.randn(100, 5) * 10 + 5  # Mean=5, Std=10\n",
        "\n",
        "print(\"Original data shape:\", X.shape)\n"
      ]
    },
    {
      "cell_type": "code",
      "source": [
        "# SOLUSI TODO 1: Normalisasi Z-score\n",
        "def z_score_normalization(data):\n",
        "    mean = np.mean(data, axis=0)\n",
        "    std = np.std(data, axis=0)\n",
        "    normalized = (data - mean) / std\n",
        "    return normalized\n",
        "\n",
        "X_normalized = z_score_normalization(X)\n",
        "\n",
        "print(\"Normalized data mean:\", np.mean(X_normalized, axis=0).round(3))\n",
        "print(\"Normalized data std:\", np.std(X_normalized, axis=0).round(3))\n"
      ],
      "metadata": {
        "colab": {
          "base_uri": "https://localhost:8080/"
        },
        "id": "p7Mf1s_ohW-g",
        "outputId": "13e957b2-9419-487f-f450-32c640429d2e"
      },
      "execution_count": 2,
      "outputs": [
        {
          "output_type": "stream",
          "name": "stdout",
          "text": [
            "Normalized data mean: [-0.  0. -0. -0.  0.]\n",
            "Normalized data std: [1. 1. 1. 1. 1.]\n"
          ]
        }
      ]
    },
    {
      "cell_type": "code",
      "source": [
        "# SOLUSI TODO 2: Handle outliers dengan clipping ±3 std\n",
        "def handle_outliers(data, std_threshold=3):\n",
        "    mean = np.mean(data, axis=0)\n",
        "    std = np.std(data, axis=0)\n",
        "\n",
        "    lower_bound = mean - std_threshold * std\n",
        "    upper_bound = mean + std_threshold * std\n",
        "\n",
        "    cleaned = np.clip(data, lower_bound, upper_bound)\n",
        "    return cleaned\n",
        "\n",
        "X_cleaned = handle_outliers(X_normalized)\n",
        "\n",
        "print(\"Sample cleaned data (first 5 rows):\\n\", X_cleaned[:5])\n"
      ],
      "metadata": {
        "colab": {
          "base_uri": "https://localhost:8080/"
        },
        "id": "b8HBmT7fhYTv",
        "outputId": "94f9daee-a055-4429-b81c-b451bb0977f3"
      },
      "execution_count": 3,
      "outputs": [
        {
          "output_type": "stream",
          "name": "stdout",
          "text": [
            "Sample cleaned data (first 5 rows):\n",
            " [[ 0.604418   -0.21979528  0.75746006  1.461092   -0.18919425]\n",
            " [-0.21141045  1.53420502  0.87977344 -0.62585547  0.53845484]\n",
            " [-0.46735006 -0.55422449  0.34303561 -2.13809665 -1.58578836]\n",
            " [-0.57771567 -1.1129603   0.41687036 -1.08519209 -1.2929218 ]\n",
            " [ 1.68601234 -0.30916828  0.16486193 -1.62640854 -0.47982667]]\n"
          ]
        }
      ]
    },
    {
      "cell_type": "code",
      "source": [
        "# SOLUSI TODO 3: One-hot encoding\n",
        "def one_hot_encoding(labels):\n",
        "    n_classes = len(np.unique(labels))\n",
        "    n_samples = len(labels)\n",
        "\n",
        "    one_hot = np.zeros((n_samples, n_classes))\n",
        "    for i, label in enumerate(labels):\n",
        "        one_hot[i, label] = 1\n",
        "    return one_hot\n",
        "\n",
        "labels = np.array([0, 1, 2, 0, 1, 2, 0])\n",
        "one_hot_labels = one_hot_encoding(labels)\n",
        "\n",
        "print(\"One-hot labels shape:\", one_hot_labels.shape)\n",
        "print(\"One-hot labels:\\n\", one_hot_labels)\n"
      ],
      "metadata": {
        "colab": {
          "base_uri": "https://localhost:8080/"
        },
        "id": "qdosJfDzhZtH",
        "outputId": "7489e388-90d9-4fd7-85fc-5339a0609f0d"
      },
      "execution_count": 4,
      "outputs": [
        {
          "output_type": "stream",
          "name": "stdout",
          "text": [
            "One-hot labels shape: (7, 3)\n",
            "One-hot labels:\n",
            " [[1. 0. 0.]\n",
            " [0. 1. 0.]\n",
            " [0. 0. 1.]\n",
            " [1. 0. 0.]\n",
            " [0. 1. 0.]\n",
            " [0. 0. 1.]\n",
            " [1. 0. 0.]]\n"
          ]
        }
      ]
    },
    {
      "cell_type": "code",
      "source": [
        "# SOLUSI TODO 4: Train-test split manual\n",
        "def train_test_split_numpy(X, y, test_size=0.2):\n",
        "    n_samples = X.shape[0]\n",
        "    n_test = int(n_samples * test_size)\n",
        "\n",
        "    indices = np.random.permutation(n_samples)\n",
        "    test_indices = indices[:n_test]\n",
        "    train_indices = indices[n_test:]\n",
        "\n",
        "    return X[train_indices], X[test_indices], y[train_indices], y[test_indices]\n",
        "\n",
        "y = np.random.randint(0, 3, 100)  # contoh label\n",
        "X_train, X_test, y_train, y_test = train_test_split_numpy(X, y, test_size=0.2)\n",
        "\n",
        "print(\"Train shape:\", X_train.shape, \"Test shape:\", X_test.shape)\n"
      ],
      "metadata": {
        "colab": {
          "base_uri": "https://localhost:8080/"
        },
        "id": "IMHI8Ob3ha-j",
        "outputId": "0780a87b-2e26-4041-d15a-a7a76799126f"
      },
      "execution_count": 5,
      "outputs": [
        {
          "output_type": "stream",
          "name": "stdout",
          "text": [
            "Train shape: (80, 5) Test shape: (20, 5)\n"
          ]
        }
      ]
    },
    {
      "cell_type": "code",
      "source": [
        "# TEST ASSERTIONS\n",
        "assert X_normalized.shape == X.shape, \"Shape should remain same\"\n",
        "assert np.allclose(X_normalized.mean(axis=0), 0, atol=1e-10), \"Mean should be ~0 after z-score\"\n",
        "assert np.allclose(X_normalized.std(axis=0), 1, atol=1e-10), \"Std should be ~1 after z-score\"\n",
        "\n",
        "print(\"✅ Semua assertions berhasil! Solusi benar.\")\n"
      ],
      "metadata": {
        "colab": {
          "base_uri": "https://localhost:8080/"
        },
        "id": "nO-b5zSrhcX0",
        "outputId": "77aa893e-f859-474c-96f7-d5ab762e6193"
      },
      "execution_count": 6,
      "outputs": [
        {
          "output_type": "stream",
          "name": "stdout",
          "text": [
            "✅ Semua assertions berhasil! Solusi benar.\n"
          ]
        }
      ]
    }
  ]
}
