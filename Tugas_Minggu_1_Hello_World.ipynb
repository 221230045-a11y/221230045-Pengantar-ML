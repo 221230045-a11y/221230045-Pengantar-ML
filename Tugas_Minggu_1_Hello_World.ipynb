{
  "nbformat": 4,
  "nbformat_minor": 0,
  "metadata": {
    "colab": {
      "provenance": [],
      "authorship_tag": "ABX9TyP2ncuS5am4gtsvC+GEIyIn",
      "include_colab_link": true
    },
    "kernelspec": {
      "name": "python3",
      "display_name": "Python 3"
    },
    "language_info": {
      "name": "python"
    }
  },
  "cells": [
    {
      "cell_type": "markdown",
      "metadata": {
        "id": "view-in-github",
        "colab_type": "text"
      },
      "source": [
        "<a href=\"https://colab.research.google.com/github/221230045-a11y/221230045-Pengantar-ML/blob/main/Tugas_Minggu_1_Hello_World.ipynb\" target=\"_parent\"><img src=\"https://colab.research.google.com/assets/colab-badge.svg\" alt=\"Open In Colab\"/></a>"
      ]
    },
    {
      "cell_type": "code",
      "execution_count": 2,
      "metadata": {
        "colab": {
          "base_uri": "https://localhost:8080/"
        },
        "id": "lU4HnPpm7VXX",
        "outputId": "17206176-a90b-4dd2-81b1-48151deafa5a"
      },
      "outputs": [
        {
          "output_type": "stream",
          "name": "stdout",
          "text": [
            "Hello, World!\n",
            "Selamat datang di Mata Kuliah Pengantar Machine Learning!\n",
            "Nama: [Ferdian Putra Wijaksono]\n",
            "NIM: [221230045]\n"
          ]
        }
      ],
      "source": [
        "print(\"Hello, World!\")\n",
        "print(\"Selamat datang di Mata Kuliah Pengantar Machine Learning!\")\n",
        "print(\"Nama: [Ferdian Putra Wijaksono]\")\n",
        "print(\"NIM: [221230045]\")"
      ]
    }
  ]
}